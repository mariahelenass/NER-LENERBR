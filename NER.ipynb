{
  "cells": [
    {
      "cell_type": "markdown",
      "metadata": {
        "id": "view-in-github",
        "colab_type": "text"
      },
      "source": [
        "<a href=\"https://colab.research.google.com/github/mariahelenass/NER-LENERBR/blob/main/NER.ipynb\" target=\"_parent\"><img src=\"https://colab.research.google.com/assets/colab-badge.svg\" alt=\"Open In Colab\"/></a>"
      ]
    },
    {
      "cell_type": "code",
      "execution_count": null,
      "id": "eca53acf",
      "metadata": {
        "id": "eca53acf"
      },
      "outputs": [],
      "source": [
        "from datasets import load_dataset\n",
        "import datasets\n",
        "import numpy as np\n",
        "from transformers import AutoTokenizer, AutoModel, AutoModelForTokenClassification, TokenClassificationPipeline,TrainingArguments,EarlyStoppingCallback, DataCollatorForTokenClassification, Trainer\n",
        "from seqeval.metrics import precision_score, recall_score, f1_score, classification_report\n",
        "import spacy\n",
        "from sklearn_crfsuite import CRF, metrics\n",
        "import tensorflow as tf\n",
        "from tensorflow.keras.models import Sequential\n",
        "from tensorflow.keras.layers import Dense, Dropout\n",
        "from tensorflow.keras.optimizers import Adam"
      ]
    },
    {
      "cell_type": "code",
      "execution_count": null,
      "id": "n4gAuQxKROZ1",
      "metadata": {
        "id": "n4gAuQxKROZ1"
      },
      "outputs": [],
      "source": [
        "nlp = spacy.load(\"pt_core_news_sm\")"
      ]
    },
    {
      "cell_type": "code",
      "execution_count": null,
      "id": "3bfad115",
      "metadata": {
        "colab": {
          "base_uri": "https://localhost:8080/",
          "height": 461,
          "referenced_widgets": [
            "7a65a5553eb942dca8b286f6887b59e2",
            "b332754744bf46d58a03c8a76e2bca70",
            "ee14de406840496c800663153483c3e8",
            "4cced0c06b2a4b1d9b05e94df4fc0fbc",
            "c6998c2f4e9e42baa77cf0a781a4ae59",
            "717ba9c10dc94df9a72fbf9101753c27",
            "d4bc7cd4746c43bdb9e8310010a5a5c3",
            "b205cb3090d24c4d8c6d5c0214eb9151",
            "e27510a42a684bf6b631671db3aecb18",
            "e63beca87b12430f9b29f398ed57a256",
            "edb438a0d69642309d40edebe7e2d020",
            "d63024c397844729b5a35595ac78da04",
            "78af1e6143a047449ad871ba47acd08b",
            "ec8ea178358643caaf77379cb2660014",
            "0916fe1b9ebc42949993596c2b1ccdfd",
            "49c3950554d74ee79875651e8b3f3208",
            "b76396c7eb8640d393a97430364f8937",
            "25413383dcc148ab8df4b726546dbf40",
            "54c42c11ca2046da9853ad555554eb29",
            "74d53d6137784cc8b438cb01925f9f6d",
            "ea0560dd3010477192885b61f5bf642c",
            "d39ac7bcd9224ad594bba41450c78d9b",
            "e47d2195152c4d5282e897ff2a398c87",
            "2286a48ba2e244fcb5ee23f0ce2ec0c8",
            "8d94c80360484bb891a36734adc37ca8",
            "bf5580539cec48cb9f0cdffa2686439c",
            "66303483201c4037b388a7aec50eed1d",
            "c72979941abd49bc84a75e4e641f5d32",
            "0ca0f604851646a1ac9e883fbef2990f",
            "e78983ae197e49a69ed283f3d3c21962",
            "139546fc74b940438b58dc7936041010",
            "4c5d04dd44414f2ca71c23b6db5b7764",
            "50d01d4764484f90bd24a46a886ff2c7",
            "a965c03791654797ae8e5c3e46428d30",
            "eb0a1f5a404d4dbd91ed2a5435913a28",
            "641a4f1097b34b2eba9ef703abbc85b8",
            "9bca46bb4ffc4f83bfd20e0c546bbca3",
            "a8afdf0c9de94338aec775926650c856",
            "9ccb9423b5ba4da5aa197c2ece079d46",
            "86c354e9ea7247819d8a33e512d566db",
            "00a5956997704d3ea532979bffc0d951",
            "6996cb119ec14915b0db3623dbefa9f5",
            "f5d32b8424d84d7884a13d6ef495827c",
            "9458e3ae344b425b9bb0a09e47115ac0",
            "c57c2e2ce5c94e8b934b98db3ef8afaa",
            "5d32d5ff87984c0e8066cf7e337f17b6",
            "0758b85c25d84136b077e57606ac659f",
            "f592270ec15441f1a4895fec0c69c3c1",
            "7fedd01c14634640b024f4d228efcebe",
            "0b7773f8c9d341e9b450e6cacf90026c",
            "c9d1cdbca7ad436294684550dc7c61b2",
            "d7e999474d8346a1a731eab23219c221",
            "ac6aea9b6e4749388a277f35a915e727",
            "a5217ac24a244c50a3fd5329c49b3ea1",
            "e77a358b34c748c39a30865632f3c01a",
            "16724afdc3c941e09824a5aff94a2b93",
            "f1d2ebaaa2a348b493af6d86d6fa2ce2",
            "8c8bfa767cc549149e569af3ecc8ac51",
            "16077be94d0348b7936908c82775dd30",
            "5be9800996d44801ae922de6d962de80",
            "8cb32499efa5492184c3b9b0caac85e0",
            "c3022fac02d84be9ac4798c844a2d681",
            "b008b994541e434ea56591d12309b1ea",
            "892775aee6c3472d8beece63c867f795",
            "2d985e6f5738423cabf6dbe099d717a8",
            "622968697b834318b5c84f6ad81bd577",
            "99e30125d410485aabe8d99abb13ab23",
            "b4172b6742b4433b87b2752d4ee69c45",
            "e75cf2b186294fde99833a83fc33d47b",
            "66a274f3f5cb4edba2ae09f58f4d137c",
            "0a595aa1d0dc490cb3ed51844f7cb473",
            "883514bfea454a418214c3d92efe1478",
            "e02acc8a3eec48ebbffa2c49801603a3",
            "b6b01fa50e1f4437b34b1b8769cd28ff",
            "43c4bb7a066e4b41af74fb4d665cdecf",
            "29f0ad7db46b4188bb66537705301dfd",
            "c13d20c44faf4bebbc4e5f3900f8c487",
            "d38c01abcd48475b8fd08345e5858067",
            "d08426e092574f19b14d44276fc88c63",
            "d25e6a2b42cf4f10aaeb5c9769815308",
            "c6d88937dc724cfaa20b713371839b06",
            "34b92e348b384559862fed20cbe3b8bc",
            "467290819a0743a0baae948bd0f022c8",
            "da922bd71d3647ada5eeac6e36aeb807",
            "23664bb6709f485082866aa45e435b0c",
            "80c033ed4e17400890159338516da92c",
            "11fc93f033d94e58b1d2f922268046ff",
            "f193377d147b4ff2a149255fd69f98c8",
            "c244cf1320914f5395e453cd7c0017b2",
            "da716b6098af45a2b99f860468603f84",
            "218408a5db5e4b17b4339ca7e7c123c5",
            "a348e104707e4daaa13a3ed000c3911d",
            "7d6d2520c36b465184be3c401fe5437c",
            "d01a36fd29ba46118d15c916127836e5",
            "27c9278f2aee40599c68fb3e93a9c881",
            "b87aaeaa8395436bbd7ce6c2bd40b304",
            "e4c6811cf40143d699aaf08a5f4f68af",
            "8cb7b679be304bd197d352479b3be5e5",
            "c2b8d7cd164546119b0458adf33df2f7",
            "bd419303b5b54f8d8d1fd5fdcbd1c89b",
            "0186ab218bff4582b259b2d4e1f8be4c",
            "99a4bfa539574008a169e78f91f0c6f5",
            "0c4ea96ae54948e9a0a820769c45bc84",
            "4b7cbc1b662c403fbe7ccc31d162e971",
            "7e53922b56314a64bb4c3fd003725fdd",
            "4d1c36f29b0a46e589d854057854893c",
            "22b18604351f4b4bafd20e0388fffdef",
            "954d8b6fed4a4bf0857792f9d4757710",
            "91335b6725764f0fbb1c3ae847479d6b",
            "3c4e14b1dd1649fcaa9a0418f5abd2ac"
          ]
        },
        "id": "3bfad115",
        "outputId": "17de5a41-fa70-44b9-ddea-7a88164a6b36"
      },
      "outputs": [
        {
          "name": "stderr",
          "output_type": "stream",
          "text": [
            "/usr/local/lib/python3.11/dist-packages/huggingface_hub/utils/_auth.py:94: UserWarning: \n",
            "The secret `HF_TOKEN` does not exist in your Colab secrets.\n",
            "To authenticate with the Hugging Face Hub, create a token in your settings tab (https://huggingface.co/settings/tokens), set it as secret in your Google Colab and restart your session.\n",
            "You will be able to reuse this secret in all of your notebooks.\n",
            "Please note that authentication is recommended but still optional to access public models or datasets.\n",
            "  warnings.warn(\n"
          ]
        },
        {
          "data": {
            "application/vnd.jupyter.widget-view+json": {
              "model_id": "7a65a5553eb942dca8b286f6887b59e2",
              "version_major": 2,
              "version_minor": 0
            },
            "text/plain": [
              "README.md:   0%|          | 0.00/6.11k [00:00<?, ?B/s]"
            ]
          },
          "metadata": {},
          "output_type": "display_data"
        },
        {
          "data": {
            "application/vnd.jupyter.widget-view+json": {
              "model_id": "d63024c397844729b5a35595ac78da04",
              "version_major": 2,
              "version_minor": 0
            },
            "text/plain": [
              "lener_br.py:   0%|          | 0.00/5.84k [00:00<?, ?B/s]"
            ]
          },
          "metadata": {},
          "output_type": "display_data"
        },
        {
          "data": {
            "application/vnd.jupyter.widget-view+json": {
              "model_id": "e47d2195152c4d5282e897ff2a398c87",
              "version_major": 2,
              "version_minor": 0
            },
            "text/plain": [
              "lener_br.py:   0%|          | 0.00/5.84k [00:00<?, ?B/s]"
            ]
          },
          "metadata": {},
          "output_type": "display_data"
        },
        {
          "data": {
            "application/vnd.jupyter.widget-view+json": {
              "model_id": "a965c03791654797ae8e5c3e46428d30",
              "version_major": 2,
              "version_minor": 0
            },
            "text/plain": [
              "README.md:   0%|          | 0.00/6.11k [00:00<?, ?B/s]"
            ]
          },
          "metadata": {},
          "output_type": "display_data"
        },
        {
          "data": {
            "application/vnd.jupyter.widget-view+json": {
              "model_id": "c57c2e2ce5c94e8b934b98db3ef8afaa",
              "version_major": 2,
              "version_minor": 0
            },
            "text/plain": [
              "Downloading data:   0%|          | 0.00/436k [00:00<?, ?B/s]"
            ]
          },
          "metadata": {},
          "output_type": "display_data"
        },
        {
          "data": {
            "application/vnd.jupyter.widget-view+json": {
              "model_id": "16724afdc3c941e09824a5aff94a2b93",
              "version_major": 2,
              "version_minor": 0
            },
            "text/plain": [
              "Downloading data:   0%|          | 0.00/70.8k [00:00<?, ?B/s]"
            ]
          },
          "metadata": {},
          "output_type": "display_data"
        },
        {
          "data": {
            "application/vnd.jupyter.widget-view+json": {
              "model_id": "99e30125d410485aabe8d99abb13ab23",
              "version_major": 2,
              "version_minor": 0
            },
            "text/plain": [
              "Downloading data:   0%|          | 0.00/94.5k [00:00<?, ?B/s]"
            ]
          },
          "metadata": {},
          "output_type": "display_data"
        },
        {
          "data": {
            "application/vnd.jupyter.widget-view+json": {
              "model_id": "d38c01abcd48475b8fd08345e5858067",
              "version_major": 2,
              "version_minor": 0
            },
            "text/plain": [
              "Generating train split:   0%|          | 0/7828 [00:00<?, ? examples/s]"
            ]
          },
          "metadata": {},
          "output_type": "display_data"
        },
        {
          "data": {
            "application/vnd.jupyter.widget-view+json": {
              "model_id": "c244cf1320914f5395e453cd7c0017b2",
              "version_major": 2,
              "version_minor": 0
            },
            "text/plain": [
              "Generating validation split:   0%|          | 0/1177 [00:00<?, ? examples/s]"
            ]
          },
          "metadata": {},
          "output_type": "display_data"
        },
        {
          "data": {
            "application/vnd.jupyter.widget-view+json": {
              "model_id": "bd419303b5b54f8d8d1fd5fdcbd1c89b",
              "version_major": 2,
              "version_minor": 0
            },
            "text/plain": [
              "Generating test split:   0%|          | 0/1390 [00:00<?, ? examples/s]"
            ]
          },
          "metadata": {},
          "output_type": "display_data"
        }
      ],
      "source": [
        "dataset = load_dataset(\"lener_br\", download_mode=\"force_redownload\")"
      ]
    },
    {
      "cell_type": "code",
      "execution_count": null,
      "id": "fffe5169",
      "metadata": {
        "colab": {
          "base_uri": "https://localhost:8080/"
        },
        "id": "fffe5169",
        "outputId": "a9597a2e-5717-424f-ac98-97d6ea173429"
      },
      "outputs": [
        {
          "name": "stdout",
          "output_type": "stream",
          "text": [
            "\n",
            "LeNER-Br is a Portuguese language dataset for named entity recognition\n",
            "applied to legal documents. LeNER-Br consists entirely of manually annotated\n",
            "legislation and legal cases texts and contains tags for persons, locations,\n",
            "time entities, organizations, legislation and legal cases.\n",
            "To compose the dataset, 66 legal documents from several Brazilian Courts were\n",
            "collected. Courts of superior and state levels were considered, such as Supremo\n",
            "Tribunal Federal, Superior Tribunal de Justiça, Tribunal de Justiça de Minas\n",
            "Gerais and Tribunal de Contas da União. In addition, four legislation documents\n",
            "were collected, such as \"Lei Maria da Penha\", giving a total of 70 documents\n",
            "\n"
          ]
        }
      ],
      "source": [
        "print(dataset['train'].description)"
      ]
    },
    {
      "cell_type": "code",
      "execution_count": null,
      "id": "df39ad5a",
      "metadata": {
        "colab": {
          "base_uri": "https://localhost:8080/"
        },
        "id": "df39ad5a",
        "outputId": "7376f6f2-3685-4b99-daa9-f395f4981d5f"
      },
      "outputs": [
        {
          "name": "stdout",
          "output_type": "stream",
          "text": [
            "\n",
            "@inproceedings{luz_etal_propor2018,\n",
            "    author = {Pedro H. {Luz de Araujo} and Te'{o}filo E. {de Campos} and\n",
            "    Renato R. R. {de Oliveira} and Matheus Stauffer and\n",
            "    Samuel Couto and Paulo Bermejo},\n",
            "    title = {{LeNER-Br}: a Dataset for Named Entity Recognition in {Brazilian} Legal Text},\n",
            "    booktitle = {International Conference on the Computational Processing of Portuguese ({PROPOR})},\n",
            "    publisher = {Springer},\n",
            "    series = {Lecture Notes on Computer Science ({LNCS})},\n",
            "    pages = {313--323},\n",
            "    year = {2018},\n",
            "    month = {September 24-26},\n",
            "    address = {Canela, RS, Brazil},\n",
            "    doi = {10.1007/978-3-319-99722-3_32},\n",
            "    url = {https://cic.unb.br/~teodecampos/LeNER-Br/},\n",
            "}\n",
            "\n"
          ]
        }
      ],
      "source": [
        "print(dataset['train'].citation)"
      ]
    },
    {
      "cell_type": "code",
      "execution_count": null,
      "id": "0fb12703",
      "metadata": {
        "colab": {
          "base_uri": "https://localhost:8080/"
        },
        "id": "0fb12703",
        "outputId": "5dc9dbf1-8de8-4c6e-a35e-4aa1fb07981f"
      },
      "outputs": [
        {
          "name": "stdout",
          "output_type": "stream",
          "text": [
            "https://cic.unb.br/~teodecampos/LeNER-Br/\n"
          ]
        }
      ],
      "source": [
        "print(dataset['train'].homepage)"
      ]
    },
    {
      "cell_type": "code",
      "execution_count": null,
      "id": "YnivpxJiQdSD",
      "metadata": {
        "colab": {
          "base_uri": "https://localhost:8080/"
        },
        "id": "YnivpxJiQdSD",
        "outputId": "19fdc718-1045-4a03-f7a0-e08e9af1617d"
      },
      "outputs": [
        {
          "name": "stdout",
          "output_type": "stream",
          "text": [
            "['O', 'B-ORGANIZACAO', 'I-ORGANIZACAO', 'B-PESSOA', 'I-PESSOA', 'B-TEMPO', 'I-TEMPO', 'B-LOCAL', 'I-LOCAL', 'B-LEGISLACAO', 'I-LEGISLACAO', 'B-JURISPRUDENCIA', 'I-JURISPRUDENCIA']\n"
          ]
        }
      ],
      "source": [
        "label_list = dataset[\"train\"].features[\"ner_tags\"].feature.names\n",
        "print(label_list)"
      ]
    },
    {
      "cell_type": "markdown",
      "id": "rhARy6S7nDGi",
      "metadata": {
        "id": "rhARy6S7nDGi"
      },
      "source": [
        "## CRF"
      ]
    },
    {
      "cell_type": "code",
      "execution_count": null,
      "id": "cbQKk8Vq00ud",
      "metadata": {
        "id": "cbQKk8Vq00ud"
      },
      "outputs": [],
      "source": [
        "small_train = dataset[\"train\"].shuffle(seed=42).select(range(1000))\n",
        "small_test = dataset[\"test\"].shuffle(seed=42).select(range(200))"
      ]
    },
    {
      "cell_type": "code",
      "execution_count": null,
      "id": "HNCDE3RNQgQU",
      "metadata": {
        "id": "HNCDE3RNQgQU"
      },
      "outputs": [],
      "source": [
        "def convert_to_crf_format(dataset_split):\n",
        "    crf_data = []\n",
        "    for example in dataset_split:\n",
        "        tokens = example[\"tokens\"]\n",
        "        labels = [label_list[tag] for tag in example[\"ner_tags\"]]\n",
        "        crf_data.append(list(zip(tokens, labels)))\n",
        "    return crf_data\n",
        "\n",
        "train_data = convert_to_crf_format(small_train)\n",
        "test_data = convert_to_crf_format(small_test)"
      ]
    },
    {
      "cell_type": "code",
      "execution_count": null,
      "id": "bo2bhFEaRb__",
      "metadata": {
        "id": "bo2bhFEaRb__"
      },
      "outputs": [],
      "source": [
        "def word2features(sent, i):\n",
        "    word = sent[i][0]\n",
        "    features = {\n",
        "        'bias': 1.0,\n",
        "        'word.lower()': word.lower(),\n",
        "        'word[-3:]': word[-3:],\n",
        "        'word[-2:]': word[-2:],\n",
        "        'word.isupper()': word.isupper(),\n",
        "        'word.istitle()': word.istitle(),\n",
        "        'word.isdigit()': word.isdigit(),\n",
        "    }\n",
        "    if i > 0:\n",
        "        word1 = sent[i-1][0]\n",
        "        features.update({\n",
        "            '-1:word.lower()': word1.lower(),\n",
        "            '-1:word.istitle()': word1.istitle(),\n",
        "            '-1:word.isupper()': word1.isupper(),\n",
        "        })\n",
        "    else:\n",
        "        features['BOS'] = True\n",
        "\n",
        "    if i < len(sent)-1:\n",
        "        word1 = sent[i+1][0]\n",
        "        features.update({\n",
        "            '+1:word.lower()': word1.lower(),\n",
        "            '+1:word.istitle()': word1.istitle(),\n",
        "            '+1:word.isupper()': word1.isupper(),\n",
        "        })\n",
        "    else:\n",
        "        features['EOS'] = True\n",
        "\n",
        "    return features\n",
        "\n",
        "def sent2features(sent): return [word2features(sent, i) for i in range(len(sent))]\n",
        "def sent2labels(sent): return [label for _, label in sent]"
      ]
    },
    {
      "cell_type": "code",
      "execution_count": null,
      "id": "50MROyZwQkCz",
      "metadata": {
        "id": "50MROyZwQkCz"
      },
      "outputs": [],
      "source": [
        "X_train = [sent2features(s) for s in train_data]\n",
        "y_train = [sent2labels(s) for s in train_data]\n",
        "\n",
        "X_test = [sent2features(s) for s in test_data]\n",
        "y_test = [sent2labels(s) for s in test_data]"
      ]
    },
    {
      "cell_type": "code",
      "execution_count": null,
      "id": "IC-InM2NR0Yf",
      "metadata": {
        "colab": {
          "base_uri": "https://localhost:8080/"
        },
        "id": "IC-InM2NR0Yf",
        "outputId": "7e7a4963-f5b0-4bf5-90db-a45ce18f1497"
      },
      "outputs": [
        {
          "name": "stdout",
          "output_type": "stream",
          "text": [
            "                  precision    recall  f1-score   support\n",
            "\n",
            "B-JURISPRUDENCIA      0.833     0.556     0.667        27\n",
            "    B-LEGISLACAO      0.840     0.792     0.816        53\n",
            "         B-LOCAL      0.455     0.500     0.476        10\n",
            "   B-ORGANIZACAO      0.878     0.489     0.628        88\n",
            "        B-PESSOA      0.850     0.567     0.680        30\n",
            "         B-TEMPO      1.000     0.261     0.414        23\n",
            "I-JURISPRUDENCIA      0.615     0.914     0.736        35\n",
            "    I-LEGISLACAO      0.854     0.920     0.886       337\n",
            "         I-LOCAL      0.375     0.353     0.364        17\n",
            "   I-ORGANIZACAO      0.859     0.433     0.575       141\n",
            "        I-PESSOA      0.983     0.781     0.870        73\n",
            "         I-TEMPO      1.000     1.000     1.000        12\n",
            "               O      0.971     0.991     0.981      6010\n",
            "\n",
            "        accuracy                          0.957      6856\n",
            "       macro avg      0.809     0.658     0.699      6856\n",
            "    weighted avg      0.956     0.957     0.953      6856\n",
            "\n"
          ]
        }
      ],
      "source": [
        "crf = CRF(\n",
        "    algorithm='lbfgs',\n",
        "    c1=0.1,\n",
        "    c2=0.1,\n",
        "    max_iterations=200,\n",
        "    all_possible_transitions=True\n",
        ")\n",
        "\n",
        "crf.fit(X_train, y_train)\n",
        "y_pred = crf.predict(X_test)\n",
        "\n",
        "print(metrics.flat_classification_report(y_test, y_pred, digits=3))"
      ]
    },
    {
      "cell_type": "code",
      "execution_count": null,
      "id": "4v4m-kQ3THox",
      "metadata": {
        "colab": {
          "base_uri": "https://localhost:8080/"
        },
        "id": "4v4m-kQ3THox",
        "outputId": "4c582388-07fb-42ab-a047-6a39ad43316e"
      },
      "outputs": [
        {
          "name": "stdout",
          "output_type": "stream",
          "text": [
            "                  precision    recall  f1-score   support\n",
            "\n",
            "B-JURISPRUDENCIA      0.800     0.444     0.571        27\n",
            "    B-LEGISLACAO      0.857     0.792     0.824        53\n",
            "         B-LOCAL      0.455     0.500     0.476        10\n",
            "   B-ORGANIZACAO      0.875     0.557     0.681        88\n",
            "        B-PESSOA      0.900     0.600     0.720        30\n",
            "         B-TEMPO      1.000     0.261     0.414        23\n",
            "I-JURISPRUDENCIA      0.644     0.829     0.725        35\n",
            "    I-LEGISLACAO      0.941     0.855     0.896       337\n",
            "         I-LOCAL      0.333     0.294     0.312        17\n",
            "   I-ORGANIZACAO      0.852     0.489     0.622       141\n",
            "        I-PESSOA      1.000     0.781     0.877        73\n",
            "         I-TEMPO      1.000     1.000     1.000        12\n",
            "               O      0.966     0.994     0.980      6010\n",
            "\n",
            "        accuracy                          0.958      6856\n",
            "       macro avg      0.817     0.646     0.700      6856\n",
            "    weighted avg      0.956     0.958     0.954      6856\n",
            "\n"
          ]
        }
      ],
      "source": [
        "crf2 = CRF(\n",
        "    algorithm='lbfgs',\n",
        "    c1=0.1,\n",
        "    c2=0.1,\n",
        "    max_iterations=50,\n",
        "    all_possible_transitions=True\n",
        ")\n",
        "\n",
        "crf2.fit(X_train, y_train)\n",
        "y_pred = crf2.predict(X_test)\n",
        "\n",
        "print(metrics.flat_classification_report(y_test, y_pred, digits=3))"
      ]
    },
    {
      "cell_type": "markdown",
      "id": "pklgUm6rZEZp",
      "metadata": {
        "id": "pklgUm6rZEZp"
      },
      "source": [
        "## Bertimbau"
      ]
    },
    {
      "cell_type": "code",
      "execution_count": null,
      "id": "Mn-2n49BTaTB",
      "metadata": {
        "id": "Mn-2n49BTaTB"
      },
      "outputs": [],
      "source": [
        "model_name = \"neuralmind/bert-base-portuguese-cased\"\n",
        "tokenizer = AutoTokenizer.from_pretrained(model_name)"
      ]
    },
    {
      "cell_type": "code",
      "execution_count": null,
      "id": "28Uku9plWhbI",
      "metadata": {
        "colab": {
          "base_uri": "https://localhost:8080/"
        },
        "id": "28Uku9plWhbI",
        "outputId": "74e1fec0-59c5-4685-cb1b-dcddafab8541"
      },
      "outputs": [
        {
          "name": "stdout",
          "output_type": "stream",
          "text": [
            "['O', 'B-ORGANIZACAO', 'I-ORGANIZACAO', 'B-PESSOA', 'I-PESSOA', 'B-TEMPO', 'I-TEMPO', 'B-LOCAL', 'I-LOCAL', 'B-LEGISLACAO', 'I-LEGISLACAO', 'B-JURISPRUDENCIA', 'I-JURISPRUDENCIA']\n"
          ]
        }
      ],
      "source": [
        "label_list = dataset[\"train\"].features[\"ner_tags\"].feature.names\n",
        "print(label_list)"
      ]
    },
    {
      "cell_type": "code",
      "execution_count": null,
      "id": "GWqUIaiffKwO",
      "metadata": {
        "id": "GWqUIaiffKwO"
      },
      "outputs": [],
      "source": [
        "def tokenize_and_align_labels(examples):\n",
        "    tokenized_inputs = tokenizer(\n",
        "        examples[\"tokens\"],\n",
        "        truncation=True,\n",
        "        padding=False,\n",
        "        max_length=128,\n",
        "        is_split_into_words=True,\n",
        "    )\n",
        "\n",
        "    labels = []\n",
        "    for i, word_ids in enumerate(tokenized_inputs.word_ids(batch_index=i) for i in range(len(examples[\"tokens\"]))):\n",
        "        example_labels = []\n",
        "        previous_word_idx = None\n",
        "        for word_idx in word_ids:\n",
        "            if word_idx is None:\n",
        "                example_labels.append(-100)\n",
        "            elif word_idx != previous_word_idx:\n",
        "                example_labels.append(examples[\"ner_tags\"][i][word_idx])\n",
        "            else:\n",
        "                example_labels.append(-100)\n",
        "            previous_word_idx = word_idx\n",
        "        labels.append(example_labels)\n",
        "\n",
        "    tokenized_inputs[\"labels\"] = labels\n",
        "    return tokenized_inputs"
      ]
    },
    {
      "cell_type": "code",
      "execution_count": null,
      "id": "YiUEzaZhfcaP",
      "metadata": {
        "colab": {
          "base_uri": "https://localhost:8080/",
          "height": 113,
          "referenced_widgets": [
            "99617d0175334c9885d074667964c0ab",
            "2f4ee50e86db4a0dbec291b01a174494",
            "1ad5ae4a9a3c4693919551d0eefd2d4e",
            "d14083a7ef524690a3e5cd459e7c34cb",
            "67d5cbceb1544f869bf6f8b6dced3aed",
            "3981d41cc08c493a9d08c623128dfcf4",
            "35eb60d710f74de3a7b3a6645f835aa3",
            "f893a4e8d96f4931aa5c71ccb4ac6022",
            "f57a8422f3ac4a458450360911d6eb71",
            "1b3c974a739b4b4e896387026023140b",
            "031f4d8a2531468c936198eef7d83f57",
            "9a5c2079cc804a92b00ace9c2046e3ed",
            "b01869073dae4413abba654f4cd17444",
            "4ef6c0c57ad8476a867bdc2ed837913f",
            "8cc33597ff94426aa69c2d1f75277dfc",
            "0ad94b1b529147d9ae88b29d3cdc35ae",
            "80e092fb60e048d395e0178e6bdc8f1c",
            "3c22d1ec7a504ddf95a92270cd8d1934",
            "6b624895c21e4c2b9ae3c050a8867c1c",
            "ee9e5bd6b85a47e2b3ca3f2c7b4bb824",
            "4488f647e60b4820934acaa69e5af24c",
            "dc77cc0c717f490ab309af6efb61f5f6",
            "33c42fd4cc39487c92b52728a1cdf9af",
            "1b0d8aae96924ef886981c5e368fc72c",
            "b54d722915b641beb1260b077752f134",
            "0cbe2d4971c545c8b7df62a8b01cadfe",
            "cea77d36427c4d289835735b37fb6ea4",
            "69629313bec0499eb5379d4bbe6cf6c8",
            "a5198b5e85d54fc2bc0c0f2f731af9da",
            "7d5351005fb34f729ea1106ec6f5bb80",
            "6ce7e9ee93ac4b9abb6c6d49abfbc6bf",
            "b62fe41aa19740cdb9dbf78a6cc673b5",
            "58525e3b45c2441fa2de69a4ee3c6e50"
          ]
        },
        "id": "YiUEzaZhfcaP",
        "outputId": "2f50d34e-ee37-464f-ee5f-113513b0eb68"
      },
      "outputs": [
        {
          "data": {
            "application/vnd.jupyter.widget-view+json": {
              "model_id": "99617d0175334c9885d074667964c0ab",
              "version_major": 2,
              "version_minor": 0
            },
            "text/plain": [
              "Map:   0%|          | 0/7828 [00:00<?, ? examples/s]"
            ]
          },
          "metadata": {},
          "output_type": "display_data"
        },
        {
          "data": {
            "application/vnd.jupyter.widget-view+json": {
              "model_id": "9a5c2079cc804a92b00ace9c2046e3ed",
              "version_major": 2,
              "version_minor": 0
            },
            "text/plain": [
              "Map:   0%|          | 0/1177 [00:00<?, ? examples/s]"
            ]
          },
          "metadata": {},
          "output_type": "display_data"
        },
        {
          "data": {
            "application/vnd.jupyter.widget-view+json": {
              "model_id": "33c42fd4cc39487c92b52728a1cdf9af",
              "version_major": 2,
              "version_minor": 0
            },
            "text/plain": [
              "Map:   0%|          | 0/1390 [00:00<?, ? examples/s]"
            ]
          },
          "metadata": {},
          "output_type": "display_data"
        }
      ],
      "source": [
        "tokenized_dataset = dataset.map(tokenize_and_align_labels, batched=True, batch_size=50)"
      ]
    },
    {
      "cell_type": "code",
      "execution_count": null,
      "id": "wISCErqdybd7",
      "metadata": {
        "id": "wISCErqdybd7"
      },
      "outputs": [],
      "source": [
        "data_collator = DataCollatorForTokenClassification(tokenizer)"
      ]
    },
    {
      "cell_type": "code",
      "execution_count": null,
      "id": "PEVMzgjNfstr",
      "metadata": {
        "id": "PEVMzgjNfstr"
      },
      "outputs": [],
      "source": [
        "label_list = dataset[\"train\"].features[\"ner_tags\"].feature.names\n",
        "num_labels = len(label_list)\n",
        "id_to_label = {i: l for i, l in enumerate(label_list)}\n",
        "label_to_id = {l: i for i, l in enumerate(label_list)}"
      ]
    },
    {
      "cell_type": "code",
      "execution_count": null,
      "id": "ELizyGUJV7TU",
      "metadata": {
        "id": "ELizyGUJV7TU"
      },
      "outputs": [],
      "source": [
        "small_train = tokenized_dataset[\"train\"].shuffle(seed=42).select(range(1000))\n",
        "small_val = tokenized_dataset[\"validation\"].shuffle(seed=42).select(range(200))"
      ]
    },
    {
      "cell_type": "code",
      "execution_count": null,
      "id": "9Vs93Fp1f-yj",
      "metadata": {
        "colab": {
          "base_uri": "https://localhost:8080/",
          "height": 449
        },
        "id": "9Vs93Fp1f-yj",
        "outputId": "c2eef748-5733-4b2f-98c1-bc1cc622b82e"
      },
      "outputs": [
        {
          "metadata": {
            "tags": null
          },
          "name": "stderr",
          "output_type": "stream",
          "text": [
            "Some weights of BertForTokenClassification were not initialized from the model checkpoint at neuralmind/bert-base-portuguese-cased and are newly initialized: ['classifier.bias', 'classifier.weight']\n",
            "You should probably TRAIN this model on a down-stream task to be able to use it for predictions and inference.\n",
            "<ipython-input-12-2622616036>:23: FutureWarning: `tokenizer` is deprecated and will be removed in version 5.0.0 for `Trainer.__init__`. Use `processing_class` instead.\n",
            "  trainer = Trainer(\n"
          ]
        },
        {
          "data": {
            "text/html": [
              "\n",
              "    <div>\n",
              "      \n",
              "      <progress value='117' max='200' style='width:300px; height:20px; vertical-align: middle;'></progress>\n",
              "      [117/200 50:24 < 36:22, 0.04 it/s, Epoch 2.32/4]\n",
              "    </div>\n",
              "    <table border=\"1\" class=\"dataframe\">\n",
              "  <thead>\n",
              " <tr style=\"text-align: left;\">\n",
              "      <th>Epoch</th>\n",
              "      <th>Training Loss</th>\n",
              "      <th>Validation Loss</th>\n",
              "    </tr>\n",
              "  </thead>\n",
              "  <tbody>\n",
              "    <tr>\n",
              "      <td>1</td>\n",
              "      <td>0.474200</td>\n",
              "      <td>0.193278</td>\n",
              "    </tr>\n",
              "    <tr>\n",
              "      <td>2</td>\n",
              "      <td>0.081600</td>\n",
              "      <td>0.139762</td>\n",
              "    </tr>\n",
              "  </tbody>\n",
              "</table><p>"
            ],
            "text/plain": [
              "<IPython.core.display.HTML object>"
            ]
          },
          "metadata": {},
          "output_type": "display_data"
        },
        {
          "data": {
            "text/html": [
              "\n",
              "    <div>\n",
              "      \n",
              "      <progress value='200' max='200' style='width:300px; height:20px; vertical-align: middle;'></progress>\n",
              "      [200/200 1:29:12, Epoch 4/4]\n",
              "    </div>\n",
              "    <table border=\"1\" class=\"dataframe\">\n",
              "  <thead>\n",
              " <tr style=\"text-align: left;\">\n",
              "      <th>Epoch</th>\n",
              "      <th>Training Loss</th>\n",
              "      <th>Validation Loss</th>\n",
              "    </tr>\n",
              "  </thead>\n",
              "  <tbody>\n",
              "    <tr>\n",
              "      <td>1</td>\n",
              "      <td>0.474200</td>\n",
              "      <td>0.193278</td>\n",
              "    </tr>\n",
              "    <tr>\n",
              "      <td>2</td>\n",
              "      <td>0.081600</td>\n",
              "      <td>0.139762</td>\n",
              "    </tr>\n",
              "    <tr>\n",
              "      <td>3</td>\n",
              "      <td>0.031800</td>\n",
              "      <td>0.122048</td>\n",
              "    </tr>\n",
              "    <tr>\n",
              "      <td>4</td>\n",
              "      <td>0.017000</td>\n",
              "      <td>0.131255</td>\n",
              "    </tr>\n",
              "  </tbody>\n",
              "</table><p>"
            ],
            "text/plain": [
              "<IPython.core.display.HTML object>"
            ]
          },
          "metadata": {},
          "output_type": "display_data"
        },
        {
          "data": {
            "text/html": [
              "\n",
              "    <div>\n",
              "      \n",
              "      <progress value='10' max='10' style='width:300px; height:20px; vertical-align: middle;'></progress>\n",
              "      [10/10 01:09]\n",
              "    </div>\n",
              "    "
            ],
            "text/plain": [
              "<IPython.core.display.HTML object>"
            ]
          },
          "metadata": {},
          "output_type": "display_data"
        },
        {
          "name": "stdout",
          "output_type": "stream",
          "text": [
            "Resultados de avaliação: {'eval_loss': 0.12204776704311371, 'eval_runtime': 77.5694, 'eval_samples_per_second': 2.578, 'eval_steps_per_second': 0.129, 'epoch': 4.0}\n"
          ]
        }
      ],
      "source": [
        "model = AutoModelForTokenClassification.from_pretrained(\n",
        "    model_name,\n",
        "    num_labels=num_labels,\n",
        "    id2label=id_to_label,\n",
        "    label2id=label_to_id,\n",
        "    ignore_mismatched_sizes=True\n",
        ")\n",
        "\n",
        "training_args = TrainingArguments(\n",
        "    output_dir=\"./results\",\n",
        "    per_device_train_batch_size=20,\n",
        "    per_device_eval_batch_size=20,\n",
        "    num_train_epochs=4,\n",
        "    eval_strategy=\"epoch\",\n",
        "    save_strategy=\"epoch\",\n",
        "    load_best_model_at_end=True,\n",
        "    metric_for_best_model=\"eval_loss\",\n",
        "    greater_is_better=False,\n",
        "    logging_steps=50,\n",
        "    report_to=\"none\",\n",
        ")\n",
        "\n",
        "trainer = Trainer(\n",
        "    model=model,\n",
        "    args=training_args,\n",
        "    train_dataset=small_train,\n",
        "    eval_dataset=small_val,\n",
        "    tokenizer=tokenizer,\n",
        "    data_collator=data_collator,\n",
        "    callbacks=[EarlyStoppingCallback(early_stopping_patience=2)]\n",
        ")\n",
        "\n",
        "trainer.train()\n",
        "\n",
        "results = trainer.evaluate()\n",
        "print(\"Resultados de avaliação:\", results)"
      ]
    },
    {
      "cell_type": "code",
      "execution_count": null,
      "id": "jie8nf7KxbM0",
      "metadata": {
        "colab": {
          "base_uri": "https://localhost:8080/",
          "height": 17
        },
        "id": "jie8nf7KxbM0",
        "outputId": "aa6d5cb5-d003-4d2c-f2f4-92b3dd6322bb"
      },
      "outputs": [
        {
          "data": {
            "text/html": [],
            "text/plain": [
              "<IPython.core.display.HTML object>"
            ]
          },
          "metadata": {},
          "output_type": "display_data"
        }
      ],
      "source": [
        "predictions_output = trainer.predict(tokenized_dataset[\"test\"].shuffle(seed=42).select(range(100)))\n",
        "\n",
        "preds = predictions_output.predictions\n",
        "labels = predictions_output.label_ids\n",
        "\n",
        "preds = np.argmax(preds, axis=-1)\n",
        "\n",
        "true_labels = []\n",
        "true_predictions = []\n",
        "\n",
        "for pred, label in zip(preds, labels):\n",
        "    temp_labels = []\n",
        "    temp_preds = []\n",
        "    for p_, l_ in zip(pred, label):\n",
        "        if l_ != -100:\n",
        "            temp_labels.append(id_to_label[int(l_)])\n",
        "            temp_preds.append(id_to_label[int(p_)])\n",
        "    true_labels.append(temp_labels)\n",
        "    true_predictions.append(temp_preds)"
      ]
    },
    {
      "cell_type": "code",
      "execution_count": null,
      "id": "DyCbv68IyOwx",
      "metadata": {
        "colab": {
          "base_uri": "https://localhost:8080/"
        },
        "id": "DyCbv68IyOwx",
        "outputId": "2f6521b5-d6fe-45ea-f804-fd2409f72cb1"
      },
      "outputs": [
        {
          "name": "stdout",
          "output_type": "stream",
          "text": [
            "\n",
            "Relatório completo:\n",
            "                precision    recall  f1-score   support\n",
            "\n",
            "JURISPRUDENCIA       0.86      1.00      0.92        12\n",
            "    LEGISLACAO       1.00      0.86      0.92        14\n",
            "         LOCAL       0.75      1.00      0.86         3\n",
            "   ORGANIZACAO       0.57      0.72      0.63        36\n",
            "        PESSOA       0.63      0.86      0.73        14\n",
            "         TEMPO       1.00      0.56      0.71         9\n",
            "\n",
            "     micro avg       0.70      0.80      0.74        88\n",
            "     macro avg       0.80      0.83      0.80        88\n",
            "  weighted avg       0.74      0.80      0.75        88\n",
            "\n"
          ]
        }
      ],
      "source": [
        "print(\"\\nRelatório completo:\")\n",
        "print(classification_report(true_labels, true_predictions))"
      ]
    }
  ],
  "metadata": {
    "colab": {
      "provenance": [],
      "include_colab_link": true
    },
    "kernelspec": {
      "display_name": "base",
      "language": "python",
      "name": "python3"
    },
    "language_info": {
      "codemirror_mode": {
        "name": "ipython",
        "version": 3
      },
      "file_extension": ".py",
      "mimetype": "text/x-python",
      "name": "python",
      "nbconvert_exporter": "python",
      "pygments_lexer": "ipython3",
      "version": "3.12.2"
    }
  },
  "nbformat": 4,
  "nbformat_minor": 5
}